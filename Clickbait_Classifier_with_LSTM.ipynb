{
  "nbformat": 4,
  "nbformat_minor": 0,
  "metadata": {
    "colab": {
      "provenance": []
    },
    "kernelspec": {
      "name": "python3",
      "display_name": "Python 3"
    },
    "language_info": {
      "name": "python"
    }
  },
  "cells": [
    {
      "cell_type": "code",
      "execution_count": 1,
      "metadata": {
        "id": "-XWxrGagZHLS"
      },
      "outputs": [],
      "source": [
        "import numpy as np\n",
        "import pandas as pd\n",
        "import matplotlib.pyplot as plt\n",
        "\n",
        "from sklearn.model_selection import train_test_split\n",
        "from sklearn.feature_extraction.text import CountVectorizer\n",
        "from sklearn.metrics import confusion_matrix\n",
        "from mlxtend.plotting import plot_confusion_matrix\n",
        "\n",
        "from tensorflow.keras.models import Sequential\n",
        "from tensorflow.keras.layers import Embedding, LSTM, Dense, Dropout, GlobalMaxPooling1D\n",
        "from tensorflow.keras.preprocessing.text import Tokenizer\n",
        "from tensorflow.keras.preprocessing.sequence import pad_sequences\n",
        "from tensorflow.keras.callbacks import ModelCheckpoint, EarlyStopping"
      ]
    },
    {
      "cell_type": "code",
      "source": [
        "FILE_PATH = '/content/drive/MyDrive/CSE710/CSE710 Project/clickbait_data.csv'\n",
        "data = pd.read_csv(FILE_PATH)\n",
        "data"
      ],
      "metadata": {
        "colab": {
          "base_uri": "https://localhost:8080/",
          "height": 424
        },
        "id": "BQIiqn2eZkNG",
        "outputId": "c36c9512-431a-4c61-8941-7fcdb481f2ba"
      },
      "execution_count": 2,
      "outputs": [
        {
          "output_type": "execute_result",
          "data": {
            "text/plain": [
              "                                                headline  clickbait\n",
              "0                                     Should I Get Bings          1\n",
              "1          Which TV Female Friend Group Do You Belong In          1\n",
              "2      The New \"Star Wars: The Force Awakens\" Trailer...          1\n",
              "3      This Vine Of New York On \"Celebrity Big Brothe...          1\n",
              "4      A Couple Did A Stunning Photo Shoot With Their...          1\n",
              "...                                                  ...        ...\n",
              "31995  To Make Female Hearts Flutter in Iraq, Throw a...          0\n",
              "31996  British Liberal Democrat Patsy Calton, 56, die...          0\n",
              "31997  Drone smartphone app to help heart attack vict...          0\n",
              "31998  Netanyahu Urges Pope Benedict, in Israel, to D...          0\n",
              "31999  Computer Makers Prepare to Stake Bigger Claim ...          0\n",
              "\n",
              "[32000 rows x 2 columns]"
            ],
            "text/html": [
              "\n",
              "  <div id=\"df-9206d38b-8721-487d-b0de-467180699e39\">\n",
              "    <div class=\"colab-df-container\">\n",
              "      <div>\n",
              "<style scoped>\n",
              "    .dataframe tbody tr th:only-of-type {\n",
              "        vertical-align: middle;\n",
              "    }\n",
              "\n",
              "    .dataframe tbody tr th {\n",
              "        vertical-align: top;\n",
              "    }\n",
              "\n",
              "    .dataframe thead th {\n",
              "        text-align: right;\n",
              "    }\n",
              "</style>\n",
              "<table border=\"1\" class=\"dataframe\">\n",
              "  <thead>\n",
              "    <tr style=\"text-align: right;\">\n",
              "      <th></th>\n",
              "      <th>headline</th>\n",
              "      <th>clickbait</th>\n",
              "    </tr>\n",
              "  </thead>\n",
              "  <tbody>\n",
              "    <tr>\n",
              "      <th>0</th>\n",
              "      <td>Should I Get Bings</td>\n",
              "      <td>1</td>\n",
              "    </tr>\n",
              "    <tr>\n",
              "      <th>1</th>\n",
              "      <td>Which TV Female Friend Group Do You Belong In</td>\n",
              "      <td>1</td>\n",
              "    </tr>\n",
              "    <tr>\n",
              "      <th>2</th>\n",
              "      <td>The New \"Star Wars: The Force Awakens\" Trailer...</td>\n",
              "      <td>1</td>\n",
              "    </tr>\n",
              "    <tr>\n",
              "      <th>3</th>\n",
              "      <td>This Vine Of New York On \"Celebrity Big Brothe...</td>\n",
              "      <td>1</td>\n",
              "    </tr>\n",
              "    <tr>\n",
              "      <th>4</th>\n",
              "      <td>A Couple Did A Stunning Photo Shoot With Their...</td>\n",
              "      <td>1</td>\n",
              "    </tr>\n",
              "    <tr>\n",
              "      <th>...</th>\n",
              "      <td>...</td>\n",
              "      <td>...</td>\n",
              "    </tr>\n",
              "    <tr>\n",
              "      <th>31995</th>\n",
              "      <td>To Make Female Hearts Flutter in Iraq, Throw a...</td>\n",
              "      <td>0</td>\n",
              "    </tr>\n",
              "    <tr>\n",
              "      <th>31996</th>\n",
              "      <td>British Liberal Democrat Patsy Calton, 56, die...</td>\n",
              "      <td>0</td>\n",
              "    </tr>\n",
              "    <tr>\n",
              "      <th>31997</th>\n",
              "      <td>Drone smartphone app to help heart attack vict...</td>\n",
              "      <td>0</td>\n",
              "    </tr>\n",
              "    <tr>\n",
              "      <th>31998</th>\n",
              "      <td>Netanyahu Urges Pope Benedict, in Israel, to D...</td>\n",
              "      <td>0</td>\n",
              "    </tr>\n",
              "    <tr>\n",
              "      <th>31999</th>\n",
              "      <td>Computer Makers Prepare to Stake Bigger Claim ...</td>\n",
              "      <td>0</td>\n",
              "    </tr>\n",
              "  </tbody>\n",
              "</table>\n",
              "<p>32000 rows × 2 columns</p>\n",
              "</div>\n",
              "      <button class=\"colab-df-convert\" onclick=\"convertToInteractive('df-9206d38b-8721-487d-b0de-467180699e39')\"\n",
              "              title=\"Convert this dataframe to an interactive table.\"\n",
              "              style=\"display:none;\">\n",
              "        \n",
              "  <svg xmlns=\"http://www.w3.org/2000/svg\" height=\"24px\"viewBox=\"0 0 24 24\"\n",
              "       width=\"24px\">\n",
              "    <path d=\"M0 0h24v24H0V0z\" fill=\"none\"/>\n",
              "    <path d=\"M18.56 5.44l.94 2.06.94-2.06 2.06-.94-2.06-.94-.94-2.06-.94 2.06-2.06.94zm-11 1L8.5 8.5l.94-2.06 2.06-.94-2.06-.94L8.5 2.5l-.94 2.06-2.06.94zm10 10l.94 2.06.94-2.06 2.06-.94-2.06-.94-.94-2.06-.94 2.06-2.06.94z\"/><path d=\"M17.41 7.96l-1.37-1.37c-.4-.4-.92-.59-1.43-.59-.52 0-1.04.2-1.43.59L10.3 9.45l-7.72 7.72c-.78.78-.78 2.05 0 2.83L4 21.41c.39.39.9.59 1.41.59.51 0 1.02-.2 1.41-.59l7.78-7.78 2.81-2.81c.8-.78.8-2.07 0-2.86zM5.41 20L4 18.59l7.72-7.72 1.47 1.35L5.41 20z\"/>\n",
              "  </svg>\n",
              "      </button>\n",
              "      \n",
              "  <style>\n",
              "    .colab-df-container {\n",
              "      display:flex;\n",
              "      flex-wrap:wrap;\n",
              "      gap: 12px;\n",
              "    }\n",
              "\n",
              "    .colab-df-convert {\n",
              "      background-color: #E8F0FE;\n",
              "      border: none;\n",
              "      border-radius: 50%;\n",
              "      cursor: pointer;\n",
              "      display: none;\n",
              "      fill: #1967D2;\n",
              "      height: 32px;\n",
              "      padding: 0 0 0 0;\n",
              "      width: 32px;\n",
              "    }\n",
              "\n",
              "    .colab-df-convert:hover {\n",
              "      background-color: #E2EBFA;\n",
              "      box-shadow: 0px 1px 2px rgba(60, 64, 67, 0.3), 0px 1px 3px 1px rgba(60, 64, 67, 0.15);\n",
              "      fill: #174EA6;\n",
              "    }\n",
              "\n",
              "    [theme=dark] .colab-df-convert {\n",
              "      background-color: #3B4455;\n",
              "      fill: #D2E3FC;\n",
              "    }\n",
              "\n",
              "    [theme=dark] .colab-df-convert:hover {\n",
              "      background-color: #434B5C;\n",
              "      box-shadow: 0px 1px 3px 1px rgba(0, 0, 0, 0.15);\n",
              "      filter: drop-shadow(0px 1px 2px rgba(0, 0, 0, 0.3));\n",
              "      fill: #FFFFFF;\n",
              "    }\n",
              "  </style>\n",
              "\n",
              "      <script>\n",
              "        const buttonEl =\n",
              "          document.querySelector('#df-9206d38b-8721-487d-b0de-467180699e39 button.colab-df-convert');\n",
              "        buttonEl.style.display =\n",
              "          google.colab.kernel.accessAllowed ? 'block' : 'none';\n",
              "\n",
              "        async function convertToInteractive(key) {\n",
              "          const element = document.querySelector('#df-9206d38b-8721-487d-b0de-467180699e39');\n",
              "          const dataTable =\n",
              "            await google.colab.kernel.invokeFunction('convertToInteractive',\n",
              "                                                     [key], {});\n",
              "          if (!dataTable) return;\n",
              "\n",
              "          const docLinkHtml = 'Like what you see? Visit the ' +\n",
              "            '<a target=\"_blank\" href=https://colab.research.google.com/notebooks/data_table.ipynb>data table notebook</a>'\n",
              "            + ' to learn more about interactive tables.';\n",
              "          element.innerHTML = '';\n",
              "          dataTable['output_type'] = 'display_data';\n",
              "          await google.colab.output.renderOutput(dataTable, element);\n",
              "          const docLink = document.createElement('div');\n",
              "          docLink.innerHTML = docLinkHtml;\n",
              "          element.appendChild(docLink);\n",
              "        }\n",
              "      </script>\n",
              "    </div>\n",
              "  </div>\n",
              "  "
            ]
          },
          "metadata": {},
          "execution_count": 2
        }
      ]
    },
    {
      "cell_type": "code",
      "source": [
        "text = data['headline'].values\n",
        "labels = data['clickbait'].values\n",
        "text_train, text_test, y_train, y_test = train_test_split(text, labels)\n",
        "print(text_train.shape, text_test.shape, y_train.shape, y_test.shape)"
      ],
      "metadata": {
        "colab": {
          "base_uri": "https://localhost:8080/"
        },
        "id": "NumFfYNkZ1ad",
        "outputId": "31276217-6258-4a0f-c551-4de7d97d5383"
      },
      "execution_count": 3,
      "outputs": [
        {
          "output_type": "stream",
          "name": "stdout",
          "text": [
            "(24000,) (8000,) (24000,) (8000,)\n"
          ]
        }
      ]
    },
    {
      "cell_type": "code",
      "source": [
        "vocab_size = 5000\n",
        "maxlen = 500\n",
        "embedding_size = 32\n",
        "\n",
        "tokenizer = Tokenizer(num_words=vocab_size)\n",
        "tokenizer.fit_on_texts(text)\n",
        "\n",
        "X_train = tokenizer.texts_to_sequences(text_train)\n",
        "x_test = tokenizer.texts_to_sequences(text_test)\n",
        "\n",
        "X_train = pad_sequences(X_train, maxlen=maxlen)\n",
        "x_test = pad_sequences(x_test, maxlen=maxlen)"
      ],
      "metadata": {
        "id": "mhPww4N0aCe3"
      },
      "execution_count": 4,
      "outputs": []
    },
    {
      "cell_type": "code",
      "source": [
        "model = Sequential()\n",
        "model.add(Embedding(vocab_size, embedding_size, input_length=maxlen))\n",
        "model.add(LSTM(32, return_sequences=True))\n",
        "model.add(GlobalMaxPooling1D())\n",
        "model.add(Dropout(0.2))\n",
        "model.add(Dense(1, activation='sigmoid'))\n",
        "model.summary()"
      ],
      "metadata": {
        "colab": {
          "base_uri": "https://localhost:8080/"
        },
        "id": "uflVr17UNS38",
        "outputId": "7a57ca75-ff9d-456e-9994-6ab0c998a1bc"
      },
      "execution_count": 5,
      "outputs": [
        {
          "output_type": "stream",
          "name": "stdout",
          "text": [
            "Model: \"sequential\"\n",
            "_________________________________________________________________\n",
            " Layer (type)                Output Shape              Param #   \n",
            "=================================================================\n",
            " embedding (Embedding)       (None, 500, 32)           160000    \n",
            "                                                                 \n",
            " lstm (LSTM)                 (None, 500, 32)           8320      \n",
            "                                                                 \n",
            " global_max_pooling1d (Globa  (None, 32)               0         \n",
            " lMaxPooling1D)                                                  \n",
            "                                                                 \n",
            " dropout (Dropout)           (None, 32)                0         \n",
            "                                                                 \n",
            " dense (Dense)               (None, 1)                 33        \n",
            "                                                                 \n",
            "=================================================================\n",
            "Total params: 168,353\n",
            "Trainable params: 168,353\n",
            "Non-trainable params: 0\n",
            "_________________________________________________________________\n"
          ]
        }
      ]
    },
    {
      "cell_type": "code",
      "source": [
        "callbacks = [\n",
        "    EarlyStopping(\n",
        "        monitor='val_accuracy',\n",
        "        min_delta=1e-4,\n",
        "        patience=3,\n",
        "        verbose=1\n",
        "    ),\n",
        "    ModelCheckpoint(\n",
        "        filepath='weights.h5',\n",
        "        monitor='val_accuracy', \n",
        "        mode='max', \n",
        "        save_best_only=True,\n",
        "        save_weights_only=True,\n",
        "        verbose=1\n",
        "    )\n",
        "]"
      ],
      "metadata": {
        "id": "CeeJdJRdNbWG"
      },
      "execution_count": 6,
      "outputs": []
    },
    {
      "cell_type": "code",
      "source": [
        "model.compile(loss='binary_crossentropy', optimizer='adam', metrics=['accuracy'])\n",
        "history = model.fit(X_train, y_train, batch_size=512, validation_data=(x_test, y_test), epochs=20, callbacks=callbacks)"
      ],
      "metadata": {
        "colab": {
          "base_uri": "https://localhost:8080/"
        },
        "id": "W2aLHFvvNfkj",
        "outputId": "7fed94f8-b28b-4daf-a23e-9fd2932b9bfb"
      },
      "execution_count": 7,
      "outputs": [
        {
          "output_type": "stream",
          "name": "stdout",
          "text": [
            "Epoch 1/20\n",
            "47/47 [==============================] - ETA: 0s - loss: 0.6625 - accuracy: 0.7821\n",
            "Epoch 1: val_accuracy improved from -inf to 0.94950, saving model to weights.h5\n",
            "47/47 [==============================] - 68s 1s/step - loss: 0.6625 - accuracy: 0.7821 - val_loss: 0.4703 - val_accuracy: 0.9495\n",
            "Epoch 2/20\n",
            "47/47 [==============================] - ETA: 0s - loss: 0.3331 - accuracy: 0.9538\n",
            "Epoch 2: val_accuracy improved from 0.94950 to 0.96737, saving model to weights.h5\n",
            "47/47 [==============================] - 64s 1s/step - loss: 0.3331 - accuracy: 0.9538 - val_loss: 0.2239 - val_accuracy: 0.9674\n",
            "Epoch 3/20\n",
            "47/47 [==============================] - ETA: 0s - loss: 0.1611 - accuracy: 0.9720\n",
            "Epoch 3: val_accuracy improved from 0.96737 to 0.97237, saving model to weights.h5\n",
            "47/47 [==============================] - 66s 1s/step - loss: 0.1611 - accuracy: 0.9720 - val_loss: 0.1165 - val_accuracy: 0.9724\n",
            "Epoch 4/20\n",
            "47/47 [==============================] - ETA: 0s - loss: 0.0928 - accuracy: 0.9787\n",
            "Epoch 4: val_accuracy improved from 0.97237 to 0.97338, saving model to weights.h5\n",
            "47/47 [==============================] - 64s 1s/step - loss: 0.0928 - accuracy: 0.9787 - val_loss: 0.0886 - val_accuracy: 0.9734\n",
            "Epoch 5/20\n",
            "47/47 [==============================] - ETA: 0s - loss: 0.0673 - accuracy: 0.9833\n",
            "Epoch 5: val_accuracy improved from 0.97338 to 0.97475, saving model to weights.h5\n",
            "47/47 [==============================] - 65s 1s/step - loss: 0.0673 - accuracy: 0.9833 - val_loss: 0.0794 - val_accuracy: 0.9747\n",
            "Epoch 6/20\n",
            "47/47 [==============================] - ETA: 0s - loss: 0.0537 - accuracy: 0.9869\n",
            "Epoch 6: val_accuracy did not improve from 0.97475\n",
            "47/47 [==============================] - 65s 1s/step - loss: 0.0537 - accuracy: 0.9869 - val_loss: 0.0765 - val_accuracy: 0.9744\n",
            "Epoch 7/20\n",
            "47/47 [==============================] - ETA: 0s - loss: 0.0433 - accuracy: 0.9897\n",
            "Epoch 7: val_accuracy improved from 0.97475 to 0.97487, saving model to weights.h5\n",
            "47/47 [==============================] - 63s 1s/step - loss: 0.0433 - accuracy: 0.9897 - val_loss: 0.0760 - val_accuracy: 0.9749\n",
            "Epoch 8/20\n",
            "47/47 [==============================] - ETA: 0s - loss: 0.0365 - accuracy: 0.9916\n",
            "Epoch 8: val_accuracy improved from 0.97487 to 0.97550, saving model to weights.h5\n",
            "47/47 [==============================] - 64s 1s/step - loss: 0.0365 - accuracy: 0.9916 - val_loss: 0.0767 - val_accuracy: 0.9755\n",
            "Epoch 9/20\n",
            "47/47 [==============================] - ETA: 0s - loss: 0.0314 - accuracy: 0.9931\n",
            "Epoch 9: val_accuracy did not improve from 0.97550\n",
            "47/47 [==============================] - 64s 1s/step - loss: 0.0314 - accuracy: 0.9931 - val_loss: 0.0773 - val_accuracy: 0.9745\n",
            "Epoch 10/20\n",
            "47/47 [==============================] - ETA: 0s - loss: 0.0273 - accuracy: 0.9943\n",
            "Epoch 10: val_accuracy did not improve from 0.97550\n",
            "47/47 [==============================] - 66s 1s/step - loss: 0.0273 - accuracy: 0.9943 - val_loss: 0.0821 - val_accuracy: 0.9736\n",
            "Epoch 11/20\n",
            "47/47 [==============================] - ETA: 0s - loss: 0.0238 - accuracy: 0.9951\n",
            "Epoch 11: val_accuracy did not improve from 0.97550\n",
            "47/47 [==============================] - 64s 1s/step - loss: 0.0238 - accuracy: 0.9951 - val_loss: 0.0836 - val_accuracy: 0.9739\n",
            "Epoch 11: early stopping\n"
          ]
        }
      ]
    },
    {
      "cell_type": "code",
      "source": [
        "model.load_weights('weights.h5')\n",
        "model.save('model')"
      ],
      "metadata": {
        "colab": {
          "base_uri": "https://localhost:8080/"
        },
        "id": "pjZ__ES0RS82",
        "outputId": "0dc68305-80d3-4f24-f826-706f29307721"
      },
      "execution_count": 8,
      "outputs": [
        {
          "output_type": "stream",
          "name": "stderr",
          "text": [
            "WARNING:absl:Found untraced functions such as lstm_cell_layer_call_fn, lstm_cell_layer_call_and_return_conditional_losses while saving (showing 2 of 2). These functions will not be directly callable after loading.\n"
          ]
        }
      ]
    },
    {
      "cell_type": "code",
      "source": [
        "acc = history.history['accuracy']\n",
        "val_acc = history.history['val_accuracy']\n",
        "loss = history.history['loss']\n",
        "val_loss = history.history['val_loss']\n",
        "x = range(1, len(acc) + 1)\n",
        "\n",
        "plt.figure(figsize=(12, 5))\n",
        "plt.subplot(1, 2, 1)\n",
        "plt.plot(x, acc, 'b', label='Training acc')\n",
        "plt.plot(x, val_acc, 'r', label='Validation acc')\n",
        "plt.title('Training and validation accuracy')\n",
        "plt.legend()\n",
        "plt.subplot(1, 2, 2)\n",
        "plt.plot(x, loss, 'b', label='Training loss')\n",
        "plt.plot(x, val_loss, 'r', label='Validation loss')\n",
        "plt.title('Training and validation loss')\n",
        "plt.legend()\n",
        "plt.show()"
      ],
      "metadata": {
        "colab": {
          "base_uri": "https://localhost:8080/",
          "height": 336
        },
        "id": "Kp48ICh2RYoH",
        "outputId": "47f1c16e-48ba-4eb1-c8e7-5b44fdc2535b"
      },
      "execution_count": 9,
      "outputs": [
        {
          "output_type": "display_data",
          "data": {
            "text/plain": [
              "<Figure size 864x360 with 2 Axes>"
            ],
            "image/png": "[encoded data removed]"
          },
          "metadata": {
            "needs_background": "light"
          }
        }
      ]
    },
    {
      "cell_type": "code",
      "source": [
        "preds = [round(i[0]) for i in model.predict(x_test)]\n",
        "cm = confusion_matrix(y_test, preds)\n",
        "plt.figure()\n",
        "plot_confusion_matrix(cm, figsize=(12,8), hide_ticks=True, cmap=plt.cm.Blues)\n",
        "plt.xticks(range(2), ['Not clickbait', 'Clickbait'], fontsize=16)\n",
        "plt.yticks(range(2), ['Not clickbait', 'Clickbait'], fontsize=16)\n",
        "plt.show()"
      ],
      "metadata": {
        "colab": {
          "base_uri": "https://localhost:8080/",
          "height": 537
        },
        "id": "RIWFn8tTRf7F",
        "outputId": "2a54809e-65ed-4b40-e948-97a540761898"
      },
      "execution_count": 10,
      "outputs": [
        {
          "output_type": "stream",
          "name": "stdout",
          "text": [
            "250/250 [==============================] - 12s 45ms/step\n"
          ]
        },
        {
          "output_type": "display_data",
          "data": {
            "text/plain": [
              "<Figure size 432x288 with 0 Axes>"
            ]
          },
          "metadata": {}
        },
        {
          "output_type": "display_data",
          "data": {
            "text/plain": [
              "<Figure size 864x576 with 1 Axes>"
            ],
            "image/png": "[encoded data removed]"
          },
          "metadata": {
            "needs_background": "light"
          }
        }
      ]
    },
    {
      "cell_type": "code",
      "source": [
        "tn, fp, fn, tp = cm.ravel()\n",
        "\n",
        "precision = tp/(tp+fp)\n",
        "recall = tp/(tp+fn)\n",
        "\n",
        "print(\"Recall of the model is {:.2f}\".format(recall))\n",
        "print(\"Precision of the model is {:.2f}\".format(precision))"
      ],
      "metadata": {
        "colab": {
          "base_uri": "https://localhost:8080/"
        },
        "id": "dUBKTiDkRnxn",
        "outputId": "d731c163-bd75-42bc-b6de-0cad50d77cda"
      },
      "execution_count": 11,
      "outputs": [
        {
          "output_type": "stream",
          "name": "stdout",
          "text": [
            "Recall of the model is 0.97\n",
            "Precision of the model is 0.98\n"
          ]
        }
      ]
    },
    {
      "cell_type": "code",
      "source": [
        "test = ['The Biggest in Football History!', 'Learning game development with Unity', 'A tour of Japan\\'s Kansai region', '12 things NOT to do in Europe']\n",
        "token_text = pad_sequences(tokenizer.texts_to_sequences(test), maxlen=maxlen)\n",
        "preds = [round(i[0]) for i in model.predict(token_text)]\n",
        "for (text, pred) in zip(test, preds):\n",
        "    label = 'Clickbait' if pred == 1.0 else 'Not Clickbait'\n",
        "    print(\"{} - {}\".format(text, label))"
      ],
      "metadata": {
        "colab": {
          "base_uri": "https://localhost:8080/"
        },
        "id": "nBMLBQI8Rr1a",
        "outputId": "b3ea10e8-9d92-4fae-bd14-521a2e280b3c"
      },
      "execution_count": 12,
      "outputs": [
        {
          "output_type": "stream",
          "name": "stdout",
          "text": [
            "1/1 [==============================] - 0s 447ms/step\n",
            "The Biggest in Football History! - Clickbait\n",
            "Learning game development with Unity - Not Clickbait\n",
            "A tour of Japan's Kansai region - Not Clickbait\n",
            "12 things NOT to do in Europe - Clickbait\n"
          ]
        }
      ]
    }
  ]
}