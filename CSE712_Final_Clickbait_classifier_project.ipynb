{
  "nbformat": 4,
  "nbformat_minor": 0,
  "metadata": {
    "colab": {
      "provenance": [],
      "include_colab_link": true
    },
    "kernelspec": {
      "name": "python3",
      "display_name": "Python 3"
    },
    "language_info": {
      "name": "python"
    }
  },
  "cells": [
    {
      "cell_type": "markdown",
      "metadata": {
        "id": "view-in-github",
        "colab_type": "text"
      },
      "source": [
        "<a href=\"https://colab.research.google.com/github/QuaziHaq/CSE712-Project/blob/main/CSE712_Final_Clickbait_classifier_project.ipynb\" target=\"_parent\"><img src=\"https://colab.research.google.com/assets/colab-badge.svg\" alt=\"Open In Colab\"/></a>"
      ]
    },
    {
      "cell_type": "markdown",
      "source": [
        "# Clickbait Detector using Naive Bayes Classifier with LIME as Explainable AI"
      ],
      "metadata": {
        "id": "rVBRKJjz4KpW"
      }
    },
    {
      "cell_type": "markdown",
      "source": [
        "# Importing Different Tools and Libraries"
      ],
      "metadata": {
        "id": "Rw3IrJa35ARZ"
      }
    },
    {
      "cell_type": "code",
      "execution_count": 68,
      "metadata": {
        "id": "wJGK2NxfJrY_"
      },
      "outputs": [],
      "source": [
        "# Load EDA Pkgs\n",
        "import pandas as pd\n",
        "import numpy as np\n",
        "\n",
        "# Load Data Viz Pkgs\n",
        "import seaborn as sns\n",
        "import matplotlib.pyplot as plt"
      ]
    },
    {
      "cell_type": "code",
      "source": [
        "# Load ML Pkgs\n",
        "from sklearn.linear_model import LogisticRegression\n",
        "from sklearn.tree import DecisionTreeClassifier\n",
        "from sklearn.neighbors import KNeighborsClassifier\n",
        "from sklearn.naive_bayes import MultinomialNB\n",
        "\n",
        "# Transformers\n",
        "from sklearn.feature_extraction.text import CountVectorizer,TfidfVectorizer\n",
        "# Others\n",
        "from sklearn.model_selection import train_test_split\n",
        "from sklearn.pipeline import Pipeline\n",
        "from sklearn.metrics import accuracy_score,classification_report,confusion_matrix,plot_confusion_matrix\n",
        "from sklearn.linear_model import LogisticRegression\n",
        "from sklearn.multioutput import MultiOutputClassifier"
      ],
      "metadata": {
        "id": "ci-9xbdqVKnw"
      },
      "execution_count": 69,
      "outputs": []
    },
    {
      "cell_type": "markdown",
      "source": [
        "# Loading the Dataset"
      ],
      "metadata": {
        "id": "nRZQzR3i5M13"
      }
    },
    {
      "cell_type": "code",
      "source": [
        "from google.colab import drive\n",
        "drive.mount('/content/drive')"
      ],
      "metadata": {
        "colab": {
          "base_uri": "https://localhost:8080/"
        },
        "id": "GcpFgey2Xon8",
        "outputId": "d7e3165f-541c-4873-bdb5-ba0c5208df83"
      },
      "execution_count": 70,
      "outputs": [
        {
          "output_type": "stream",
          "name": "stdout",
          "text": [
            "Drive already mounted at /content/drive; to attempt to forcibly remount, call drive.mount(\"/content/drive\", force_remount=True).\n"
          ]
        }
      ]
    },
    {
      "cell_type": "code",
      "source": [
        "os.chdir(\"/content/drive/MyDrive/CSE712/Project/webis-clickbait-22\")\n",
        "os.listdir()\n",
        "df = pd.read_json(\"train.jsonl\", lines = True, orient = 'columns')\n",
        "print(df.shape)\n",
        "df.head()"
      ],
      "metadata": {
        "colab": {
          "base_uri": "https://localhost:8080/",
          "height": 739
        },
        "id": "m558cAE8ADTz",
        "outputId": "5bb9872d-91ca-4ba2-babe-58e43bc75696"
      },
      "execution_count": 71,
      "outputs": [
        {
          "output_type": "stream",
          "name": "stdout",
          "text": [
            "(3200, 14)\n"
          ]
        },
        {
          "output_type": "execute_result",
          "data": {
            "text/plain": [
              "                                   uuid              postId  \\\n",
              "0  0af11f6b-c889-4520-9372-66ba25cb7657              532quh   \n",
              "1  b1a1f63d-8853-4a11-89e8-6b2952a393ec  411701128456593408   \n",
              "2  008b7b19-0445-4e16-8f9e-075b73f80ca4  380537005123190784   \n",
              "3  31ecf93c-3e21-4c80-949b-aa549a046b93  844567852531286016   \n",
              "4  31b108a3-c828-421a-a4b9-cf651e9ac859  814186311573766144   \n",
              "\n",
              "                                            postText postPlatform  \\\n",
              "0  [Wes Welker Wanted Dinner With Tom Brady, But ...       reddit   \n",
              "1   [NASA sets date for full recovery of ozone hole]      Twitter   \n",
              "2  [This is what makes employees happy -- and it'...      Twitter   \n",
              "3  [Passion is overrated — 7 work habits you need...      Twitter   \n",
              "4  [The perfect way to cook rice so that it's per...      Twitter   \n",
              "\n",
              "                                    targetParagraphs  \\\n",
              "0  [It’ll be just like old times this weekend for...   \n",
              "1  [2070 is shaping up to be a great year for Mot...   \n",
              "2  [Despite common belief, money isn't the key to...   \n",
              "3  [It’s common wisdom. Near gospel really, and n...   \n",
              "4  [Boiling rice may seem simple, but there is a ...   \n",
              "\n",
              "                                         targetTitle  \\\n",
              "0  Wes Welker Wanted Dinner With Tom Brady, But P...   \n",
              "1  Hole In Ozone Layer Expected To Make Full Reco...   \n",
              "2  Intellectual Stimulation Trumps Money For Empl...   \n",
              "3  ‘Follow your passion’ is wrong, here are 7 hab...   \n",
              "4  Revealed: The perfect way to cook rice so that...   \n",
              "\n",
              "                                   targetDescription  \\\n",
              "0  It'll be just like old times this weekend for ...   \n",
              "1  2070 is shaping up to be a great year for Moth...   \n",
              "2  By: Chad Brooks \\r\\nPublished: 09/18/2013 06:4...   \n",
              "3    There's a lot more to work that loving your job   \n",
              "4  The question 'How does one cook rice properly?...   \n",
              "\n",
              "                                      targetKeywords  \\\n",
              "0    new england patriots, ricky doyle, top stories,   \n",
              "1  ozone layer,ozone hole determined by weather,M...   \n",
              "2  employee happiness money,employee happiness in...   \n",
              "3                       business, work-life, careers   \n",
              "4            Quora,users,share,perfect,way,cook,rice   \n",
              "\n",
              "                                         targetMedia  \\\n",
              "0  [http://pixel.wp.com/b.gif?v=noscript, http://...   \n",
              "1  [http://s.m.huffpost.com/assets/Logo_Huffingto...   \n",
              "2  [http://i.huffpost.com/gen/1359674/images/o-HA...   \n",
              "3                                               None   \n",
              "4                                               None   \n",
              "\n",
              "                                           targetUrl  \\\n",
              "0  http://nesn.com/2016/09/wes-welker-wanted-dinn...   \n",
              "1                             http://huff.to/1cH672Z   \n",
              "2                             http://huff.to/1epfeaw   \n",
              "3                                               None   \n",
              "4                                               None   \n",
              "\n",
              "                                          provenance  \\\n",
              "0  {'source': 'anonymized', 'humanSpoiler': 'They...   \n",
              "1  {'source': 'anonymized', 'humanSpoiler': '2070...   \n",
              "2  {'source': 'anonymized', 'humanSpoiler': 'Inte...   \n",
              "3  {'source': 'anonymized', 'humanSpoiler': None,...   \n",
              "4  {'source': 'anonymized', 'humanSpoiler': None,...   \n",
              "\n",
              "                                             spoiler  \\\n",
              "0              [how about that morning we go throw?]   \n",
              "1                                             [2070]   \n",
              "2                         [intellectual stimulation]   \n",
              "3  [Purpose connects us to something bigger and i...   \n",
              "4                                 [in a rice cooker]   \n",
              "\n",
              "                                    spoilerPositions       tags  \n",
              "0                             [[[3, 151], [3, 186]]]  [passage]  \n",
              "1                                 [[[0, 0], [0, 4]]]   [phrase]  \n",
              "2                             [[[1, 186], [1, 210]]]   [phrase]  \n",
              "3  [[[11, 25], [11, 101]], [[17, 56], [17, 85]], ...    [multi]  \n",
              "4                               [[[5, 60], [5, 76]]]   [phrase]  "
            ],
            "text/html": [
              "\n",
              "  <div id=\"df-53f1ca1b-9142-4383-a8a2-685a641093c6\">\n",
              "    <div class=\"colab-df-container\">\n",
              "      <div>\n",
              "<style scoped>\n",
              "    .dataframe tbody tr th:only-of-type {\n",
              "        vertical-align: middle;\n",
              "    }\n",
              "\n",
              "    .dataframe tbody tr th {\n",
              "        vertical-align: top;\n",
              "    }\n",
              "\n",
              "    .dataframe thead th {\n",
              "        text-align: right;\n",
              "    }\n",
              "</style>\n",
              "<table border=\"1\" class=\"dataframe\">\n",
              "  <thead>\n",
              "    <tr style=\"text-align: right;\">\n",
              "      <th></th>\n",
              "      <th>uuid</th>\n",
              "      <th>postId</th>\n",
              "      <th>postText</th>\n",
              "      <th>postPlatform</th>\n",
              "      <th>targetParagraphs</th>\n",
              "      <th>targetTitle</th>\n",
              "      <th>targetDescription</th>\n",
              "      <th>targetKeywords</th>\n",
              "      <th>targetMedia</th>\n",
              "      <th>targetUrl</th>\n",
              "      <th>provenance</th>\n",
              "      <th>spoiler</th>\n",
              "      <th>spoilerPositions</th>\n",
              "      <th>tags</th>\n",
              "    </tr>\n",
              "  </thead>\n",
              "  <tbody>\n",
              "    <tr>\n",
              "      <th>0</th>\n",
              "      <td>0af11f6b-c889-4520-9372-66ba25cb7657</td>\n",
              "      <td>532quh</td>\n",
              "      <td>[Wes Welker Wanted Dinner With Tom Brady, But ...</td>\n",
              "      <td>reddit</td>\n",
              "      <td>[It’ll be just like old times this weekend for...</td>\n",
              "      <td>Wes Welker Wanted Dinner With Tom Brady, But P...</td>\n",
              "      <td>It'll be just like old times this weekend for ...</td>\n",
              "      <td>new england patriots, ricky doyle, top stories,</td>\n",
              "      <td>[http://pixel.wp.com/b.gif?v=noscript, http://...</td>\n",
              "      <td>http://nesn.com/2016/09/wes-welker-wanted-dinn...</td>\n",
              "      <td>{'source': 'anonymized', 'humanSpoiler': 'They...</td>\n",
              "      <td>[how about that morning we go throw?]</td>\n",
              "      <td>[[[3, 151], [3, 186]]]</td>\n",
              "      <td>[passage]</td>\n",
              "    </tr>\n",
              "    <tr>\n",
              "      <th>1</th>\n",
              "      <td>b1a1f63d-8853-4a11-89e8-6b2952a393ec</td>\n",
              "      <td>411701128456593408</td>\n",
              "      <td>[NASA sets date for full recovery of ozone hole]</td>\n",
              "      <td>Twitter</td>\n",
              "      <td>[2070 is shaping up to be a great year for Mot...</td>\n",
              "      <td>Hole In Ozone Layer Expected To Make Full Reco...</td>\n",
              "      <td>2070 is shaping up to be a great year for Moth...</td>\n",
              "      <td>ozone layer,ozone hole determined by weather,M...</td>\n",
              "      <td>[http://s.m.huffpost.com/assets/Logo_Huffingto...</td>\n",
              "      <td>http://huff.to/1cH672Z</td>\n",
              "      <td>{'source': 'anonymized', 'humanSpoiler': '2070...</td>\n",
              "      <td>[2070]</td>\n",
              "      <td>[[[0, 0], [0, 4]]]</td>\n",
              "      <td>[phrase]</td>\n",
              "    </tr>\n",
              "    <tr>\n",
              "      <th>2</th>\n",
              "      <td>008b7b19-0445-4e16-8f9e-075b73f80ca4</td>\n",
              "      <td>380537005123190784</td>\n",
              "      <td>[This is what makes employees happy -- and it'...</td>\n",
              "      <td>Twitter</td>\n",
              "      <td>[Despite common belief, money isn't the key to...</td>\n",
              "      <td>Intellectual Stimulation Trumps Money For Empl...</td>\n",
              "      <td>By: Chad Brooks \\r\\nPublished: 09/18/2013 06:4...</td>\n",
              "      <td>employee happiness money,employee happiness in...</td>\n",
              "      <td>[http://i.huffpost.com/gen/1359674/images/o-HA...</td>\n",
              "      <td>http://huff.to/1epfeaw</td>\n",
              "      <td>{'source': 'anonymized', 'humanSpoiler': 'Inte...</td>\n",
              "      <td>[intellectual stimulation]</td>\n",
              "      <td>[[[1, 186], [1, 210]]]</td>\n",
              "      <td>[phrase]</td>\n",
              "    </tr>\n",
              "    <tr>\n",
              "      <th>3</th>\n",
              "      <td>31ecf93c-3e21-4c80-949b-aa549a046b93</td>\n",
              "      <td>844567852531286016</td>\n",
              "      <td>[Passion is overrated — 7 work habits you need...</td>\n",
              "      <td>Twitter</td>\n",
              "      <td>[It’s common wisdom. Near gospel really, and n...</td>\n",
              "      <td>‘Follow your passion’ is wrong, here are 7 hab...</td>\n",
              "      <td>There's a lot more to work that loving your job</td>\n",
              "      <td>business, work-life, careers</td>\n",
              "      <td>None</td>\n",
              "      <td>None</td>\n",
              "      <td>{'source': 'anonymized', 'humanSpoiler': None,...</td>\n",
              "      <td>[Purpose connects us to something bigger and i...</td>\n",
              "      <td>[[[11, 25], [11, 101]], [[17, 56], [17, 85]], ...</td>\n",
              "      <td>[multi]</td>\n",
              "    </tr>\n",
              "    <tr>\n",
              "      <th>4</th>\n",
              "      <td>31b108a3-c828-421a-a4b9-cf651e9ac859</td>\n",
              "      <td>814186311573766144</td>\n",
              "      <td>[The perfect way to cook rice so that it's per...</td>\n",
              "      <td>Twitter</td>\n",
              "      <td>[Boiling rice may seem simple, but there is a ...</td>\n",
              "      <td>Revealed: The perfect way to cook rice so that...</td>\n",
              "      <td>The question 'How does one cook rice properly?...</td>\n",
              "      <td>Quora,users,share,perfect,way,cook,rice</td>\n",
              "      <td>None</td>\n",
              "      <td>None</td>\n",
              "      <td>{'source': 'anonymized', 'humanSpoiler': None,...</td>\n",
              "      <td>[in a rice cooker]</td>\n",
              "      <td>[[[5, 60], [5, 76]]]</td>\n",
              "      <td>[phrase]</td>\n",
              "    </tr>\n",
              "  </tbody>\n",
              "</table>\n",
              "</div>\n",
              "      <button class=\"colab-df-convert\" onclick=\"convertToInteractive('df-53f1ca1b-9142-4383-a8a2-685a641093c6')\"\n",
              "              title=\"Convert this dataframe to an interactive table.\"\n",
              "              style=\"display:none;\">\n",
              "        \n",
              "  <svg xmlns=\"http://www.w3.org/2000/svg\" height=\"24px\"viewBox=\"0 0 24 24\"\n",
              "       width=\"24px\">\n",
              "    <path d=\"M0 0h24v24H0V0z\" fill=\"none\"/>\n",
              "    <path d=\"M18.56 5.44l.94 2.06.94-2.06 2.06-.94-2.06-.94-.94-2.06-.94 2.06-2.06.94zm-11 1L8.5 8.5l.94-2.06 2.06-.94-2.06-.94L8.5 2.5l-.94 2.06-2.06.94zm10 10l.94 2.06.94-2.06 2.06-.94-2.06-.94-.94-2.06-.94 2.06-2.06.94z\"/><path d=\"M17.41 7.96l-1.37-1.37c-.4-.4-.92-.59-1.43-.59-.52 0-1.04.2-1.43.59L10.3 9.45l-7.72 7.72c-.78.78-.78 2.05 0 2.83L4 21.41c.39.39.9.59 1.41.59.51 0 1.02-.2 1.41-.59l7.78-7.78 2.81-2.81c.8-.78.8-2.07 0-2.86zM5.41 20L4 18.59l7.72-7.72 1.47 1.35L5.41 20z\"/>\n",
              "  </svg>\n",
              "      </button>\n",
              "      \n",
              "  <style>\n",
              "    .colab-df-container {\n",
              "      display:flex;\n",
              "      flex-wrap:wrap;\n",
              "      gap: 12px;\n",
              "    }\n",
              "\n",
              "    .colab-df-convert {\n",
              "      background-color: #E8F0FE;\n",
              "      border: none;\n",
              "      border-radius: 50%;\n",
              "      cursor: pointer;\n",
              "      display: none;\n",
              "      fill: #1967D2;\n",
              "      height: 32px;\n",
              "      padding: 0 0 0 0;\n",
              "      width: 32px;\n",
              "    }\n",
              "\n",
              "    .colab-df-convert:hover {\n",
              "      background-color: #E2EBFA;\n",
              "      box-shadow: 0px 1px 2px rgba(60, 64, 67, 0.3), 0px 1px 3px 1px rgba(60, 64, 67, 0.15);\n",
              "      fill: #174EA6;\n",
              "    }\n",
              "\n",
              "    [theme=dark] .colab-df-convert {\n",
              "      background-color: #3B4455;\n",
              "      fill: #D2E3FC;\n",
              "    }\n",
              "\n",
              "    [theme=dark] .colab-df-convert:hover {\n",
              "      background-color: #434B5C;\n",
              "      box-shadow: 0px 1px 3px 1px rgba(0, 0, 0, 0.15);\n",
              "      filter: drop-shadow(0px 1px 2px rgba(0, 0, 0, 0.3));\n",
              "      fill: #FFFFFF;\n",
              "    }\n",
              "  </style>\n",
              "\n",
              "      <script>\n",
              "        const buttonEl =\n",
              "          document.querySelector('#df-53f1ca1b-9142-4383-a8a2-685a641093c6 button.colab-df-convert');\n",
              "        buttonEl.style.display =\n",
              "          google.colab.kernel.accessAllowed ? 'block' : 'none';\n",
              "\n",
              "        async function convertToInteractive(key) {\n",
              "          const element = document.querySelector('#df-53f1ca1b-9142-4383-a8a2-685a641093c6');\n",
              "          const dataTable =\n",
              "            await google.colab.kernel.invokeFunction('convertToInteractive',\n",
              "                                                     [key], {});\n",
              "          if (!dataTable) return;\n",
              "\n",
              "          const docLinkHtml = 'Like what you see? Visit the ' +\n",
              "            '<a target=\"_blank\" href=https://colab.research.google.com/notebooks/data_table.ipynb>data table notebook</a>'\n",
              "            + ' to learn more about interactive tables.';\n",
              "          element.innerHTML = '';\n",
              "          dataTable['output_type'] = 'display_data';\n",
              "          await google.colab.output.renderOutput(dataTable, element);\n",
              "          const docLink = document.createElement('div');\n",
              "          docLink.innerHTML = docLinkHtml;\n",
              "          element.appendChild(docLink);\n",
              "        }\n",
              "      </script>\n",
              "    </div>\n",
              "  </div>\n",
              "  "
            ]
          },
          "metadata": {},
          "execution_count": 71
        }
      ]
    },
    {
      "cell_type": "code",
      "source": [
        "df['uuid'].value_counts()\n"
      ],
      "metadata": {
        "colab": {
          "base_uri": "https://localhost:8080/"
        },
        "id": "N1u3Ak0ZVWeq",
        "outputId": "f9f9e71d-a972-4d4c-dd6a-a9dbb6221d9e"
      },
      "execution_count": 72,
      "outputs": [
        {
          "output_type": "execute_result",
          "data": {
            "text/plain": [
              "0af11f6b-c889-4520-9372-66ba25cb7657    1\n",
              "af2bde19-9fc3-4521-87e0-7311fded2d0e    1\n",
              "b192d1f5-3cf0-47bd-8eab-1f4214146ed5    1\n",
              "c31b03d7-0b30-46aa-8401-c8e90de4f554    1\n",
              "2b523d6a-2d39-413b-bf49-7c8fc419d840    1\n",
              "                                       ..\n",
              "8003b000-29a1-4aab-8f9e-076eebc25855    1\n",
              "5b62ca89-649d-4b78-986c-ba9d920c3d9d    1\n",
              "f90afb52-eca0-4afb-b97b-3c9bf67d1273    1\n",
              "480e4924-7ce9-4b26-b72f-5345a5b285b9    1\n",
              "0d9e3a31-77f7-414a-9d70-5213f2c0cd94    1\n",
              "Name: uuid, Length: 3200, dtype: int64"
            ]
          },
          "metadata": {},
          "execution_count": 72
        }
      ]
    },
    {
      "cell_type": "code",
      "source": [
        "df['tags'] = df['tags'].str[0]"
      ],
      "metadata": {
        "id": "tP_VashwdGfn"
      },
      "execution_count": 73,
      "outputs": []
    },
    {
      "cell_type": "code",
      "source": [
        "#Class 2/Target 2/Output 2 Distribution\n",
        "df['tags'].value_counts()"
      ],
      "metadata": {
        "colab": {
          "base_uri": "https://localhost:8080/"
        },
        "id": "kyS9tEZ6Ri1X",
        "outputId": "ecb1ecb2-6aa4-498d-a899-78cb22d35551"
      },
      "execution_count": 74,
      "outputs": [
        {
          "output_type": "execute_result",
          "data": {
            "text/plain": [
              "phrase     1367\n",
              "passage    1274\n",
              "multi       559\n",
              "Name: tags, dtype: int64"
            ]
          },
          "metadata": {},
          "execution_count": 74
        }
      ]
    },
    {
      "cell_type": "code",
      "source": [
        "print(df['tags'])"
      ],
      "metadata": {
        "colab": {
          "base_uri": "https://localhost:8080/"
        },
        "id": "mOZivPzxdi4u",
        "outputId": "d7c77a26-3752-4b73-a680-073e4ac216fe"
      },
      "execution_count": 76,
      "outputs": [
        {
          "output_type": "stream",
          "name": "stdout",
          "text": [
            "0       passage\n",
            "1        phrase\n",
            "2        phrase\n",
            "3         multi\n",
            "4        phrase\n",
            "         ...   \n",
            "3195    passage\n",
            "3196    passage\n",
            "3197      multi\n",
            "3198     phrase\n",
            "3199     phrase\n",
            "Name: tags, Length: 3200, dtype: object\n"
          ]
        }
      ]
    },
    {
      "cell_type": "code",
      "source": [
        "!pip install neattext"
      ],
      "metadata": {
        "colab": {
          "base_uri": "https://localhost:8080/"
        },
        "id": "-dLn5G6hScBE",
        "outputId": "99d54ce7-ac66-4cbe-b202-a60c31b4d0da"
      },
      "execution_count": 77,
      "outputs": [
        {
          "output_type": "stream",
          "name": "stdout",
          "text": [
            "Looking in indexes: https://pypi.org/simple, https://us-python.pkg.dev/colab-wheels/public/simple/\n",
            "Requirement already satisfied: neattext in /usr/local/lib/python3.8/dist-packages (0.1.3)\n"
          ]
        }
      ]
    },
    {
      "cell_type": "code",
      "source": [
        "#Text Cleaning\n",
        "import neattext.functions as nfx"
      ],
      "metadata": {
        "id": "v2YK3nTORuHy"
      },
      "execution_count": 78,
      "outputs": []
    },
    {
      "cell_type": "code",
      "source": [
        "#df['uuid'] = df['uuid'].str.lower()"
      ],
      "metadata": {
        "id": "2Wg66MQKRx0v"
      },
      "execution_count": 79,
      "outputs": []
    },
    {
      "cell_type": "code",
      "source": [
        "#df.head()"
      ],
      "metadata": {
        "colab": {
          "base_uri": "https://localhost:8080/",
          "height": 721
        },
        "id": "Mw9sEh09T7iz",
        "outputId": "90caaa14-007e-4c7a-e29e-babf38d4a3a6"
      },
      "execution_count": 80,
      "outputs": [
        {
          "output_type": "execute_result",
          "data": {
            "text/plain": [
              "                                   uuid              postId  \\\n",
              "0  0af11f6b-c889-4520-9372-66ba25cb7657              532quh   \n",
              "1  b1a1f63d-8853-4a11-89e8-6b2952a393ec  411701128456593408   \n",
              "2  008b7b19-0445-4e16-8f9e-075b73f80ca4  380537005123190784   \n",
              "3  31ecf93c-3e21-4c80-949b-aa549a046b93  844567852531286016   \n",
              "4  31b108a3-c828-421a-a4b9-cf651e9ac859  814186311573766144   \n",
              "\n",
              "                                            postText postPlatform  \\\n",
              "0  [Wes Welker Wanted Dinner With Tom Brady, But ...       reddit   \n",
              "1   [NASA sets date for full recovery of ozone hole]      Twitter   \n",
              "2  [This is what makes employees happy -- and it'...      Twitter   \n",
              "3  [Passion is overrated — 7 work habits you need...      Twitter   \n",
              "4  [The perfect way to cook rice so that it's per...      Twitter   \n",
              "\n",
              "                                    targetParagraphs  \\\n",
              "0  [It’ll be just like old times this weekend for...   \n",
              "1  [2070 is shaping up to be a great year for Mot...   \n",
              "2  [Despite common belief, money isn't the key to...   \n",
              "3  [It’s common wisdom. Near gospel really, and n...   \n",
              "4  [Boiling rice may seem simple, but there is a ...   \n",
              "\n",
              "                                         targetTitle  \\\n",
              "0  Wes Welker Wanted Dinner With Tom Brady, But P...   \n",
              "1  Hole In Ozone Layer Expected To Make Full Reco...   \n",
              "2  Intellectual Stimulation Trumps Money For Empl...   \n",
              "3  ‘Follow your passion’ is wrong, here are 7 hab...   \n",
              "4  Revealed: The perfect way to cook rice so that...   \n",
              "\n",
              "                                   targetDescription  \\\n",
              "0  It'll be just like old times this weekend for ...   \n",
              "1  2070 is shaping up to be a great year for Moth...   \n",
              "2  By: Chad Brooks \\r\\nPublished: 09/18/2013 06:4...   \n",
              "3    There's a lot more to work that loving your job   \n",
              "4  The question 'How does one cook rice properly?...   \n",
              "\n",
              "                                      targetKeywords  \\\n",
              "0    new england patriots, ricky doyle, top stories,   \n",
              "1  ozone layer,ozone hole determined by weather,M...   \n",
              "2  employee happiness money,employee happiness in...   \n",
              "3                       business, work-life, careers   \n",
              "4            Quora,users,share,perfect,way,cook,rice   \n",
              "\n",
              "                                         targetMedia  \\\n",
              "0  [http://pixel.wp.com/b.gif?v=noscript, http://...   \n",
              "1  [http://s.m.huffpost.com/assets/Logo_Huffingto...   \n",
              "2  [http://i.huffpost.com/gen/1359674/images/o-HA...   \n",
              "3                                               None   \n",
              "4                                               None   \n",
              "\n",
              "                                           targetUrl  \\\n",
              "0  http://nesn.com/2016/09/wes-welker-wanted-dinn...   \n",
              "1                             http://huff.to/1cH672Z   \n",
              "2                             http://huff.to/1epfeaw   \n",
              "3                                               None   \n",
              "4                                               None   \n",
              "\n",
              "                                          provenance  \\\n",
              "0  {'source': 'anonymized', 'humanSpoiler': 'They...   \n",
              "1  {'source': 'anonymized', 'humanSpoiler': '2070...   \n",
              "2  {'source': 'anonymized', 'humanSpoiler': 'Inte...   \n",
              "3  {'source': 'anonymized', 'humanSpoiler': None,...   \n",
              "4  {'source': 'anonymized', 'humanSpoiler': None,...   \n",
              "\n",
              "                                             spoiler  \\\n",
              "0              [how about that morning we go throw?]   \n",
              "1                                             [2070]   \n",
              "2                         [intellectual stimulation]   \n",
              "3  [Purpose connects us to something bigger and i...   \n",
              "4                                 [in a rice cooker]   \n",
              "\n",
              "                                    spoilerPositions     tags  \n",
              "0                             [[[3, 151], [3, 186]]]  passage  \n",
              "1                                 [[[0, 0], [0, 4]]]   phrase  \n",
              "2                             [[[1, 186], [1, 210]]]   phrase  \n",
              "3  [[[11, 25], [11, 101]], [[17, 56], [17, 85]], ...    multi  \n",
              "4                               [[[5, 60], [5, 76]]]   phrase  "
            ],
            "text/html": [
              "\n",
              "  <div id=\"df-132c6587-8ac4-4bea-b906-9566cfad48dd\">\n",
              "    <div class=\"colab-df-container\">\n",
              "      <div>\n",
              "<style scoped>\n",
              "    .dataframe tbody tr th:only-of-type {\n",
              "        vertical-align: middle;\n",
              "    }\n",
              "\n",
              "    .dataframe tbody tr th {\n",
              "        vertical-align: top;\n",
              "    }\n",
              "\n",
              "    .dataframe thead th {\n",
              "        text-align: right;\n",
              "    }\n",
              "</style>\n",
              "<table border=\"1\" class=\"dataframe\">\n",
              "  <thead>\n",
              "    <tr style=\"text-align: right;\">\n",
              "      <th></th>\n",
              "      <th>uuid</th>\n",
              "      <th>postId</th>\n",
              "      <th>postText</th>\n",
              "      <th>postPlatform</th>\n",
              "      <th>targetParagraphs</th>\n",
              "      <th>targetTitle</th>\n",
              "      <th>targetDescription</th>\n",
              "      <th>targetKeywords</th>\n",
              "      <th>targetMedia</th>\n",
              "      <th>targetUrl</th>\n",
              "      <th>provenance</th>\n",
              "      <th>spoiler</th>\n",
              "      <th>spoilerPositions</th>\n",
              "      <th>tags</th>\n",
              "    </tr>\n",
              "  </thead>\n",
              "  <tbody>\n",
              "    <tr>\n",
              "      <th>0</th>\n",
              "      <td>0af11f6b-c889-4520-9372-66ba25cb7657</td>\n",
              "      <td>532quh</td>\n",
              "      <td>[Wes Welker Wanted Dinner With Tom Brady, But ...</td>\n",
              "      <td>reddit</td>\n",
              "      <td>[It’ll be just like old times this weekend for...</td>\n",
              "      <td>Wes Welker Wanted Dinner With Tom Brady, But P...</td>\n",
              "      <td>It'll be just like old times this weekend for ...</td>\n",
              "      <td>new england patriots, ricky doyle, top stories,</td>\n",
              "      <td>[http://pixel.wp.com/b.gif?v=noscript, http://...</td>\n",
              "      <td>http://nesn.com/2016/09/wes-welker-wanted-dinn...</td>\n",
              "      <td>{'source': 'anonymized', 'humanSpoiler': 'They...</td>\n",
              "      <td>[how about that morning we go throw?]</td>\n",
              "      <td>[[[3, 151], [3, 186]]]</td>\n",
              "      <td>passage</td>\n",
              "    </tr>\n",
              "    <tr>\n",
              "      <th>1</th>\n",
              "      <td>b1a1f63d-8853-4a11-89e8-6b2952a393ec</td>\n",
              "      <td>411701128456593408</td>\n",
              "      <td>[NASA sets date for full recovery of ozone hole]</td>\n",
              "      <td>Twitter</td>\n",
              "      <td>[2070 is shaping up to be a great year for Mot...</td>\n",
              "      <td>Hole In Ozone Layer Expected To Make Full Reco...</td>\n",
              "      <td>2070 is shaping up to be a great year for Moth...</td>\n",
              "      <td>ozone layer,ozone hole determined by weather,M...</td>\n",
              "      <td>[http://s.m.huffpost.com/assets/Logo_Huffingto...</td>\n",
              "      <td>http://huff.to/1cH672Z</td>\n",
              "      <td>{'source': 'anonymized', 'humanSpoiler': '2070...</td>\n",
              "      <td>[2070]</td>\n",
              "      <td>[[[0, 0], [0, 4]]]</td>\n",
              "      <td>phrase</td>\n",
              "    </tr>\n",
              "    <tr>\n",
              "      <th>2</th>\n",
              "      <td>008b7b19-0445-4e16-8f9e-075b73f80ca4</td>\n",
              "      <td>380537005123190784</td>\n",
              "      <td>[This is what makes employees happy -- and it'...</td>\n",
              "      <td>Twitter</td>\n",
              "      <td>[Despite common belief, money isn't the key to...</td>\n",
              "      <td>Intellectual Stimulation Trumps Money For Empl...</td>\n",
              "      <td>By: Chad Brooks \\r\\nPublished: 09/18/2013 06:4...</td>\n",
              "      <td>employee happiness money,employee happiness in...</td>\n",
              "      <td>[http://i.huffpost.com/gen/1359674/images/o-HA...</td>\n",
              "      <td>http://huff.to/1epfeaw</td>\n",
              "      <td>{'source': 'anonymized', 'humanSpoiler': 'Inte...</td>\n",
              "      <td>[intellectual stimulation]</td>\n",
              "      <td>[[[1, 186], [1, 210]]]</td>\n",
              "      <td>phrase</td>\n",
              "    </tr>\n",
              "    <tr>\n",
              "      <th>3</th>\n",
              "      <td>31ecf93c-3e21-4c80-949b-aa549a046b93</td>\n",
              "      <td>844567852531286016</td>\n",
              "      <td>[Passion is overrated — 7 work habits you need...</td>\n",
              "      <td>Twitter</td>\n",
              "      <td>[It’s common wisdom. Near gospel really, and n...</td>\n",
              "      <td>‘Follow your passion’ is wrong, here are 7 hab...</td>\n",
              "      <td>There's a lot more to work that loving your job</td>\n",
              "      <td>business, work-life, careers</td>\n",
              "      <td>None</td>\n",
              "      <td>None</td>\n",
              "      <td>{'source': 'anonymized', 'humanSpoiler': None,...</td>\n",
              "      <td>[Purpose connects us to something bigger and i...</td>\n",
              "      <td>[[[11, 25], [11, 101]], [[17, 56], [17, 85]], ...</td>\n",
              "      <td>multi</td>\n",
              "    </tr>\n",
              "    <tr>\n",
              "      <th>4</th>\n",
              "      <td>31b108a3-c828-421a-a4b9-cf651e9ac859</td>\n",
              "      <td>814186311573766144</td>\n",
              "      <td>[The perfect way to cook rice so that it's per...</td>\n",
              "      <td>Twitter</td>\n",
              "      <td>[Boiling rice may seem simple, but there is a ...</td>\n",
              "      <td>Revealed: The perfect way to cook rice so that...</td>\n",
              "      <td>The question 'How does one cook rice properly?...</td>\n",
              "      <td>Quora,users,share,perfect,way,cook,rice</td>\n",
              "      <td>None</td>\n",
              "      <td>None</td>\n",
              "      <td>{'source': 'anonymized', 'humanSpoiler': None,...</td>\n",
              "      <td>[in a rice cooker]</td>\n",
              "      <td>[[[5, 60], [5, 76]]]</td>\n",
              "      <td>phrase</td>\n",
              "    </tr>\n",
              "  </tbody>\n",
              "</table>\n",
              "</div>\n",
              "      <button class=\"colab-df-convert\" onclick=\"convertToInteractive('df-132c6587-8ac4-4bea-b906-9566cfad48dd')\"\n",
              "              title=\"Convert this dataframe to an interactive table.\"\n",
              "              style=\"display:none;\">\n",
              "        \n",
              "  <svg xmlns=\"http://www.w3.org/2000/svg\" height=\"24px\"viewBox=\"0 0 24 24\"\n",
              "       width=\"24px\">\n",
              "    <path d=\"M0 0h24v24H0V0z\" fill=\"none\"/>\n",
              "    <path d=\"M18.56 5.44l.94 2.06.94-2.06 2.06-.94-2.06-.94-.94-2.06-.94 2.06-2.06.94zm-11 1L8.5 8.5l.94-2.06 2.06-.94-2.06-.94L8.5 2.5l-.94 2.06-2.06.94zm10 10l.94 2.06.94-2.06 2.06-.94-2.06-.94-.94-2.06-.94 2.06-2.06.94z\"/><path d=\"M17.41 7.96l-1.37-1.37c-.4-.4-.92-.59-1.43-.59-.52 0-1.04.2-1.43.59L10.3 9.45l-7.72 7.72c-.78.78-.78 2.05 0 2.83L4 21.41c.39.39.9.59 1.41.59.51 0 1.02-.2 1.41-.59l7.78-7.78 2.81-2.81c.8-.78.8-2.07 0-2.86zM5.41 20L4 18.59l7.72-7.72 1.47 1.35L5.41 20z\"/>\n",
              "  </svg>\n",
              "      </button>\n",
              "      \n",
              "  <style>\n",
              "    .colab-df-container {\n",
              "      display:flex;\n",
              "      flex-wrap:wrap;\n",
              "      gap: 12px;\n",
              "    }\n",
              "\n",
              "    .colab-df-convert {\n",
              "      background-color: #E8F0FE;\n",
              "      border: none;\n",
              "      border-radius: 50%;\n",
              "      cursor: pointer;\n",
              "      display: none;\n",
              "      fill: #1967D2;\n",
              "      height: 32px;\n",
              "      padding: 0 0 0 0;\n",
              "      width: 32px;\n",
              "    }\n",
              "\n",
              "    .colab-df-convert:hover {\n",
              "      background-color: #E2EBFA;\n",
              "      box-shadow: 0px 1px 2px rgba(60, 64, 67, 0.3), 0px 1px 3px 1px rgba(60, 64, 67, 0.15);\n",
              "      fill: #174EA6;\n",
              "    }\n",
              "\n",
              "    [theme=dark] .colab-df-convert {\n",
              "      background-color: #3B4455;\n",
              "      fill: #D2E3FC;\n",
              "    }\n",
              "\n",
              "    [theme=dark] .colab-df-convert:hover {\n",
              "      background-color: #434B5C;\n",
              "      box-shadow: 0px 1px 3px 1px rgba(0, 0, 0, 0.15);\n",
              "      filter: drop-shadow(0px 1px 2px rgba(0, 0, 0, 0.3));\n",
              "      fill: #FFFFFF;\n",
              "    }\n",
              "  </style>\n",
              "\n",
              "      <script>\n",
              "        const buttonEl =\n",
              "          document.querySelector('#df-132c6587-8ac4-4bea-b906-9566cfad48dd button.colab-df-convert');\n",
              "        buttonEl.style.display =\n",
              "          google.colab.kernel.accessAllowed ? 'block' : 'none';\n",
              "\n",
              "        async function convertToInteractive(key) {\n",
              "          const element = document.querySelector('#df-132c6587-8ac4-4bea-b906-9566cfad48dd');\n",
              "          const dataTable =\n",
              "            await google.colab.kernel.invokeFunction('convertToInteractive',\n",
              "                                                     [key], {});\n",
              "          if (!dataTable) return;\n",
              "\n",
              "          const docLinkHtml = 'Like what you see? Visit the ' +\n",
              "            '<a target=\"_blank\" href=https://colab.research.google.com/notebooks/data_table.ipynb>data table notebook</a>'\n",
              "            + ' to learn more about interactive tables.';\n",
              "          element.innerHTML = '';\n",
              "          dataTable['output_type'] = 'display_data';\n",
              "          await google.colab.output.renderOutput(dataTable, element);\n",
              "          const docLink = document.createElement('div');\n",
              "          docLink.innerHTML = docLinkHtml;\n",
              "          element.appendChild(docLink);\n",
              "        }\n",
              "      </script>\n",
              "    </div>\n",
              "  </div>\n",
              "  "
            ]
          },
          "metadata": {},
          "execution_count": 80
        }
      ]
    },
    {
      "cell_type": "code",
      "source": [
        "# Features & Labels\n",
        "Xfeatures = df['uuid']\n",
        "ylabels = df[['tags']]"
      ],
      "metadata": {
        "id": "6Qh7NY5aUlrZ"
      },
      "execution_count": 81,
      "outputs": []
    },
    {
      "cell_type": "code",
      "source": [
        "# Split Data\n",
        "x_train,x_test,y_train,y_test = train_test_split(Xfeatures,ylabels,test_size=0.3,random_state=7)"
      ],
      "metadata": {
        "id": "rSzoZ3SDU0jF"
      },
      "execution_count": 82,
      "outputs": []
    },
    {
      "cell_type": "code",
      "source": [
        "pipe_lr = Pipeline(steps=[('cv',CountVectorizer()),\n",
        "                          ('lr_multi',MultiOutputClassifier(LogisticRegression()))])"
      ],
      "metadata": {
        "id": "WwzTZt9DU4ZM"
      },
      "execution_count": 83,
      "outputs": []
    },
    {
      "cell_type": "code",
      "source": [
        "# Fit on Dataset\n",
        "pipe_lr.fit(x_train,y_train)"
      ],
      "metadata": {
        "colab": {
          "base_uri": "https://localhost:8080/"
        },
        "id": "iftHgi_9U7TE",
        "outputId": "ce7b8c30-52e9-4d25-b578-9da32e81d733"
      },
      "execution_count": 84,
      "outputs": [
        {
          "output_type": "execute_result",
          "data": {
            "text/plain": [
              "Pipeline(steps=[('cv', CountVectorizer()),\n",
              "                ('lr_multi',\n",
              "                 MultiOutputClassifier(estimator=LogisticRegression()))])"
            ]
          },
          "metadata": {},
          "execution_count": 84
        }
      ]
    },
    {
      "cell_type": "code",
      "source": [
        "pipe_lr.score(x_test,y_test)"
      ],
      "metadata": {
        "colab": {
          "base_uri": "https://localhost:8080/"
        },
        "id": "qo7A72_wXciR",
        "outputId": "aac25244-4363-4a79-c390-c4f757d3c7f2"
      },
      "execution_count": 85,
      "outputs": [
        {
          "output_type": "execute_result",
          "data": {
            "text/plain": [
              "0.453125"
            ]
          },
          "metadata": {},
          "execution_count": 85
        }
      ]
    },
    {
      "cell_type": "code",
      "source": [
        "# Sample Prediction\n",
        "print(x_test.iloc[0])\n",
        "print(\"Actual Prediction:\",y_test.iloc[0])"
      ],
      "metadata": {
        "colab": {
          "base_uri": "https://localhost:8080/"
        },
        "id": "NaDNlOIgXQXk",
        "outputId": "39966acc-cf5f-49b7-91c9-aacbfacf6c0e"
      },
      "execution_count": 86,
      "outputs": [
        {
          "output_type": "stream",
          "name": "stdout",
          "text": [
            "b62081d8-1000-4121-9c68-08b025eea4ce\n",
            "Actual Prediction: tags    multi\n",
            "Name: 3140, dtype: object\n"
          ]
        }
      ]
    },
    {
      "cell_type": "code",
      "source": [
        "print(x_test.iloc[0])"
      ],
      "metadata": {
        "colab": {
          "base_uri": "https://localhost:8080/"
        },
        "id": "uN9fYDHmXyOB",
        "outputId": "748cb16c-4478-4438-e8e0-6f7ff3c0a973"
      },
      "execution_count": 87,
      "outputs": [
        {
          "output_type": "stream",
          "name": "stdout",
          "text": [
            "b62081d8-1000-4121-9c68-08b025eea4ce\n"
          ]
        }
      ]
    },
    {
      "cell_type": "code",
      "source": [
        "pred1 = x_test.iloc[0]"
      ],
      "metadata": {
        "id": "xn7VcIDEYLET"
      },
      "execution_count": 88,
      "outputs": []
    },
    {
      "cell_type": "code",
      "source": [
        "pipe_lr.predict([pred1])"
      ],
      "metadata": {
        "colab": {
          "base_uri": "https://localhost:8080/"
        },
        "id": "JhuQ-zI_YPfF",
        "outputId": "30447b8b-a0e9-472c-8e6b-b9de6ace4e91"
      },
      "execution_count": 89,
      "outputs": [
        {
          "output_type": "execute_result",
          "data": {
            "text/plain": [
              "array([['passage']], dtype=object)"
            ]
          },
          "metadata": {},
          "execution_count": 89
        }
      ]
    },
    {
      "cell_type": "code",
      "source": [
        "print(pipe_lr.classes_)\n",
        "pipe_lr.predict_proba([pred1])"
      ],
      "metadata": {
        "colab": {
          "base_uri": "https://localhost:8080/"
        },
        "id": "upjnE4ZLYaHB",
        "outputId": "123856ca-513e-4bae-e1d7-5000656677b6"
      },
      "execution_count": 90,
      "outputs": [
        {
          "output_type": "stream",
          "name": "stdout",
          "text": [
            "[array(['multi', 'passage', 'phrase'], dtype=object)]\n"
          ]
        },
        {
          "output_type": "execute_result",
          "data": {
            "text/plain": [
              "[array([[0.14239917, 0.50221031, 0.35539052]])]"
            ]
          },
          "metadata": {},
          "execution_count": 90
        }
      ]
    },
    {
      "cell_type": "code",
      "source": [
        "pipe_knn = Pipeline(steps=[('cv',CountVectorizer()),('knn',KNeighborsClassifier(n_neighbors=4))])"
      ],
      "metadata": {
        "id": "JqBBWY0-YeZV"
      },
      "execution_count": 57,
      "outputs": []
    },
    {
      "cell_type": "code",
      "source": [
        "pipe_knn.fit(x_train,y_train)"
      ],
      "metadata": {
        "colab": {
          "base_uri": "https://localhost:8080/"
        },
        "id": "IXIewLxGYrCb",
        "outputId": "8b47f914-c7ca-4828-ee4d-f1842dfd1be3"
      },
      "execution_count": 91,
      "outputs": [
        {
          "output_type": "stream",
          "name": "stderr",
          "text": [
            "/usr/local/lib/python3.8/dist-packages/sklearn/neighbors/_classification.py:198: DataConversionWarning: A column-vector y was passed when a 1d array was expected. Please change the shape of y to (n_samples,), for example using ravel().\n",
            "  return self._fit(X, y)\n"
          ]
        },
        {
          "output_type": "execute_result",
          "data": {
            "text/plain": [
              "Pipeline(steps=[('cv', CountVectorizer()),\n",
              "                ('knn', KNeighborsClassifier(n_neighbors=4))])"
            ]
          },
          "metadata": {},
          "execution_count": 91
        }
      ]
    },
    {
      "cell_type": "code",
      "source": [
        "pipe_knn.predict([pred1])"
      ],
      "metadata": {
        "colab": {
          "base_uri": "https://localhost:8080/"
        },
        "id": "dX0PKJ7XYvEf",
        "outputId": "2b9266fe-2a9c-4ab5-a82f-ec605495718e"
      },
      "execution_count": 92,
      "outputs": [
        {
          "output_type": "execute_result",
          "data": {
            "text/plain": [
              "array(['multi'], dtype=object)"
            ]
          },
          "metadata": {},
          "execution_count": 92
        }
      ]
    }
  ]
}